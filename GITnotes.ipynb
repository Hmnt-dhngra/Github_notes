{
 "cells": [
  {
   "cell_type": "markdown",
   "id": "489e8546-491a-4aaa-b17b-356ff6e27155",
   "metadata": {},
   "source": [
    "## What is GitHub \n",
    "- is a platform where developers store, share, and collaborate on code.\n",
    "- It’s built on Git, \"\"a version control system\"\" that \"\"tracks changes in your code\"\" over time.\n",
    "- It lets multiple people work on the same project without overwriting each other’s work.\n",
    "- You can manage versions, report issues, review code, and even deploy projects directly from it.\n",
    "\n",
    "GitHub is like Google Drive for code — but smarter, with tools for collaboration, version control, and project management."
   ]
  },
  {
   "cell_type": "markdown",
   "id": "67d8b1c8-39b7-4489-8c2a-1fefc783b16a",
   "metadata": {},
   "source": [
    "## Git vs Github\n",
    "\n",
    "### Git \n",
    "- A version control system (software) that tracks changes in code.\n",
    "- Runs on your local computer (command line or tools like Git Bash).\n",
    "- Helps you manage versions of your code and track history.\n",
    "- Keeps track of changes in your files and allows rollback to previous versions.\n",
    "- Collaboration is limited to local machine unless manually shared.\n",
    "- Works offline (no internet needed).\n",
    "- For example : You commit changes and create branches on your computer.\n",
    "- Open-source tool maintained by the community.\n",
    "\n",
    "\n",
    "### Github \n",
    "- A cloud platform built around Git for hosting and collaboration.\n",
    "- Runs on Internet\n",
    "- Lets you store Git repositories online and collaborate with others.\n",
    "- Hosts your Git repositories so teams can share, review, and manage code together.\n",
    "- Built for teamwork — supports pull requests, issues, comments, etc.\n",
    "- Works online (internet required).\n",
    "- For example : You push your commits to GitHub to share or back them up.\n",
    "- Product/service owned by Microsoft."
   ]
  },
  {
   "cell_type": "markdown",
   "id": "2f8cadc9-006e-4f26-89ea-252e519e68f9",
   "metadata": {},
   "source": [
    "## Accessing Github programmatically\n",
    "### Step to install Git\n",
    "- Download git for windows https://git-scm.com/downloads/win\n",
    "- click on the installer.\n",
    "- Next Next In the select components -> add a git bash profile to windows terminal\n",
    "- Next In the choosing default editor-> choose the one with Visual studio code as git's default editor Next\n",
    "- Adjusting the name of the initial branch in new repositories: Override the default branch name for new repos: main --> Next\n",
    "- Adjusting your PATH environment: Git from command line and from 3rd party software  --> Next\n",
    "- Use bundled --> Next --> Next --> Windows default console window--> Next --> fast forward all merge --> Next --> Next --> Next Done!!\n",
    "\n",
    "\n",
    "\n",
    "Check if properly installed. Go to cmd -> Type Git -> should show up related commands of Git"
   ]
  },
  {
   "cell_type": "markdown",
   "id": "b59bd0fd-b8d9-4994-b1a8-d7ce79957c43",
   "metadata": {},
   "source": [
    "### Github\n",
    "Register yourself On Github\n",
    "- Go to profile\n",
    "- Repositories -> create a new repository -> git repo name (ex: dummy1)\n",
    "- Give Description if you want to\n",
    "- Mark as public (visible to others after published) or private (visible only to you after published)\n",
    "- Create Repository\n",
    "- You will now get a URL basis the username and the repo name like https://github.com/Hmnt-dhngra/dummy1.git\n"
   ]
  },
  {
   "cell_type": "markdown",
   "id": "058ffea5-d5d1-46cc-94cc-a08fd2f0c25f",
   "metadata": {},
   "source": [
    "### Gitbash\n",
    "- Now open your vs code\n",
    "- In the terminal section, select git bash. It will have a colorful terminal\n",
    "- Confirm the current folder by typing pwd on gitbash terminal\n",
    "- Similarly u can use ls to see all the files in your current working folder.\n",
    "- Now follow the instructions as were on the new repository page you just created online. The following are the commands"
   ]
  },
  {
   "cell_type": "markdown",
   "id": "b005ddb4-105e-4188-88cb-dae459793eb2",
   "metadata": {},
   "source": [
    "### Git commands\n",
    "\n",
    "1) git init ---> This is used to initialise a new git repository. Once done, you can check on the gitbash terminal by doing ls -a you will see a file called .git which is usually hidden and not normally visible in the windows folder directly.\n"
   ]
  },
  {
   "cell_type": "markdown",
   "id": "b0ad1d77-79cd-42d6-a914-20cb6f1beb10",
   "metadata": {},
   "source": [
    "2) git add . ---> This can be used in 2 ways, one on a specific file and in the other way, all at once.\n",
    "- git add 'file_name' is for one file,\n",
    "- git add . is for all the files tracking.\n",
    "- git add is like adding files in staging i.e make them ready for the next commit. \n",
    "- git add is like the cart before shopping. You add a lot of things which you may not be finally buying. \n",
    "- There will a warning (in the working copy of 'check.ipynb', LF will be replaced by CRLF the next time Git touches it), buit that's ok."
   ]
  },
  {
   "cell_type": "markdown",
   "id": "af57a7d5-ee6f-4bce-ae6f-51ae05546e4e",
   "metadata": {},
   "source": [
    "3) git commit -m \"my very first git commit\" --> This line writes a message for the code. This is for you and will be visible on github. This records the staged changes as a new commit. Uptill here we are making use of the git software, but it still doesn't know what is visible on the github, so you make a connection between online and offline i.e. github and you do this via a remote add origin. "
   ]
  },
  {
   "cell_type": "markdown",
   "id": "27f45495-c571-499d-a66d-bfbc55028dfb",
   "metadata": {},
   "source": [
    "4) git branch --> shows what's the current branch, usually is main"
   ]
  },
  {
   "cell_type": "markdown",
   "id": "f1b6ad4f-8ca1-43a5-a05b-804d5444e11b",
   "metadata": {},
   "source": [
    "5) git branch -M main --> this will not be usually needed because during installation you mentioned to use main as the branch name"
   ]
  },
  {
   "cell_type": "markdown",
   "id": "4ba13206-b9bd-4705-b997-51b0cae3873b",
   "metadata": {},
   "source": [
    "#### EXTRA\n",
    "git config --global user.email\n",
    "\n",
    "git config --global user.name"
   ]
  },
  {
   "cell_type": "markdown",
   "id": "49271229-c996-48cd-a80a-e769dd6c9364",
   "metadata": {},
   "source": [
    "when creating repository for the first time, \n",
    "\n",
    "You need to tell git what will be the remote address (i.e. the address where you have to go...location, and then you choose that locatiopn as your origin, just like you do on google maps). You tell whenever you go, you will go to the following remote address. \n",
    "\n",
    "\n",
    "6) git remote add origin https://github.com/Hmnt-dhngra/dummy1.git"
   ]
  },
  {
   "cell_type": "markdown",
   "id": "f72079da-b6e3-4366-8213-4b381e2f3fe8",
   "metadata": {},
   "source": [
    "7) git push -u origin main --> This will give an error (remote: Permission to Hmnt-dhngra/dummy1.git denied to HmntDhngra.\n",
    "fatal: unable to access 'https://github.com/Hmnt-dhngra/dummy1.git/': The requested URL returned error: 403). This is basically authentication issue.\n",
    "\n",
    "\n",
    "- Sometimes you get an error remote origin already exists error when you do (git push -u origin main) even for a new repo created which means it is pointing to a different origin, so you need to change the origin for that. You do this : git remote set-url origin https://github.com/Hmnt-dhngra/dummy2.git  and then you do (git push -u origin main) It will be solved. \n",
    "\n",
    "- Sometimes you get error related to permission denide: GitHub Error : Permission To {repo} denied to {user}. This usually happens when originally you had a different github account on the machine. You can check this by doing git config user.name or git config user.email \n",
    "ex: Permission to Hmnt-dhngra/dummy1.git denied to HmntDhngra issue in github\\\n",
    "\n",
    "Then you go to your windows credential manager, go to github.com inside that window, delete the credentials stored there. Now when you do (git push), you will be prompted to a window to sign in with your login credentials and you will be good to go. https://www.youtube.com/watch?v=KnuaVfi5MFU"
   ]
  },
  {
   "cell_type": "markdown",
   "id": "bdfb0ad9-9043-41a7-b054-8b165ef3ca9b",
   "metadata": {},
   "source": [
    "8) git clone https://github.com/Hmnt-dhngra/dummy2.git --> this brings the files from remote repo to local system. "
   ]
  },
  {
   "cell_type": "markdown",
   "id": "e3c524e5-078b-4150-a283-b5d2c04cfa76",
   "metadata": {},
   "source": [
    "Context: You have cloned a particular url because of which the files came to your local system. Now you made some changes onto the file, finally you want to upload this file to the url. How do You do?"
   ]
  },
  {
   "cell_type": "markdown",
   "id": "afa5f703-6abd-49f5-bf6b-c8ece9da7736",
   "metadata": {},
   "source": [
    "9. git status --> do this whenever you want to upload the changed file to github. This shows you the files you have modified.  "
   ]
  },
  {
   "cell_type": "markdown",
   "id": "aa19e724-70d3-4572-a339-901394c7a654",
   "metadata": {},
   "source": [
    "- Now since you cloned the url, you already will have .git established\n",
    "- you already have the files\n",
    "- you already have the url which is that of remote repo\n",
    "- you have the changed file\n",
    "\n",
    "\n",
    "\n",
    "\n",
    "so \n",
    "\n",
    "- git init: NOT NEEDED : because git is already cloned\n",
    "- git add : NEEDED: we need to do this to add the files \n",
    "- git commit -m 'changes' : NEEDED : we need to commit the changes and the message\n",
    "- git remote add origin : NOT NEEDED : it already knows the URL from which it cloned it\n",
    "- git push -u origin main : NEEDED : to finally push from local to remote "
   ]
  },
  {
   "cell_type": "markdown",
   "id": "a7114c2b-b3e0-4f99-a48a-b20c458ba891",
   "metadata": {},
   "source": [
    "10. git pull origin main --> pull the files from remote repo to local drive. If the number of files aren't same in both, you wont be able to push. "
   ]
  },
  {
   "cell_type": "markdown",
   "id": "2bf86b58-7e9b-438c-b4ca-d7abb8e67f56",
   "metadata": {},
   "source": [
    "##### Creating a new branch so that you don't push new features directly to prod. \n",
    "- git branch test_1 -->this makes a copy of the code in the main branch and then keeps it in the test_1 branch. Now in order to do any changes, you make the test_1 branch active.\n",
    "- git checkout test_1 --> Here you do the code changes. "
   ]
  },
  {
   "cell_type": "code",
   "execution_count": null,
   "id": "54cb1a36-3cf4-4fd7-92d7-2c99cc7c9b5c",
   "metadata": {},
   "outputs": [],
   "source": []
  }
 ],
 "metadata": {
  "kernelspec": {
   "display_name": "Python [conda env:base] *",
   "language": "python",
   "name": "conda-base-py"
  },
  "language_info": {
   "codemirror_mode": {
    "name": "ipython",
    "version": 3
   },
   "file_extension": ".py",
   "mimetype": "text/x-python",
   "name": "python",
   "nbconvert_exporter": "python",
   "pygments_lexer": "ipython3",
   "version": "3.12.7"
  }
 },
 "nbformat": 4,
 "nbformat_minor": 5
}
